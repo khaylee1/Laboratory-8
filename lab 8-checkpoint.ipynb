{
 "cells": [
  {
   "cell_type": "markdown",
   "metadata": {},
   "source": [
    "### LinearAlgebra\n",
    "Laboratory 7 : System of Linear Equations<br>\n",
    "Coded and Submitted by:<br>\n",
    "Embuscado Khayle Anthony L."
   ]
  },
  {
   "cell_type": "markdown",
   "metadata": {},
   "source": [
    "## Laboratory 8\n",
    "1.) Try to find your own example of a system of linear equations (minimum of 2 equations) and solve them using the inverse equation. Explain the details of your example.<br>\n",
    "2.) Using your example in (1) solve it using np.linalg.solve(). Explain the function and its difference using the inverse equation.\n"
   ]
  },
  {
   "cell_type": "code",
   "execution_count": 1,
   "metadata": {},
   "outputs": [],
   "source": [
    "import numpy as np"
   ]
  },
  {
   "cell_type": "markdown",
   "metadata": {},
   "source": [
    "## Problem Number 1\n",
    "\n",
    "Pokemon trainer Serena, ash, and clement went to a supermarket near Lumiose City Gym to buy things they need for their journey towards Laverre City.  while inside the supermarket, the 3 of them grab the same essential items ultraball, hyper potion, and revive. ash buy 10 ultraball, 13 hyper potion, and 13 revive for 34,100, while Serena buys 20 ultraball, 15 hyper potion, and 33 revive for 47,700, and clement buy 30 ultraball, 20 hyper potion, and 13 revive for 63,700.  what is the cost of 1 ultraball,  1 hyper potion, and 1 revive?<br>\n",
    "<br>\n",
    "$Let : \\\\ \n",
    "U = Ultraball, H = Hyper\\ potion, R = Revive\\\\ \\\\\n",
    "ash: 10U + 13H + 13R = 34,100 \\\\\n",
    "clement: 20U + 15H + 13R = 47,700 \\\\\n",
    "serena: 30U + 20H + 13R = 63,700$\n",
    "\n",
    "\n"
   ]
  },
  {
   "cell_type": "code",
   "execution_count": 8,
   "metadata": {},
   "outputs": [],
   "source": [
    "items=np.array([\n",
    "    [10,13,13],\n",
    "    [20,15,13],\n",
    "    [30,20,13]\n",
    "])\n",
    "cost=np.array([\n",
    "    [34100],\n",
    "    [47700],\n",
    "    [63700]\n",
    "])"
   ]
  },
  {
   "cell_type": "code",
   "execution_count": 9,
   "metadata": {},
   "outputs": [
    {
     "name": "stdout",
     "output_type": "stream",
     "text": [
      "The price of one Ultraball is: poke 1200.00\n",
      "The price of one Hyper potion is: Poke 800.00\n",
      "The price of one Revive is: poke 900.00\n"
     ]
    }
   ],
   "source": [
    "prices = np.linalg.inv(items) @ cost \n",
    "print('The price of one Ultraball is: poke {:.2f}'.format(float(prices[0])))\n",
    "print('The price of one Hyper potion is: Poke {:.2f}'.format(float(prices[1])))\n",
    "print('The price of one Revive is: poke {:.2f}'.format(float(prices[2])))"
   ]
  },
  {
   "cell_type": "code",
   "execution_count": 10,
   "metadata": {},
   "outputs": [
    {
     "name": "stdout",
     "output_type": "stream",
     "text": [
      "The price of one Ultraball is: poke 1200.00\n",
      "The price of one Hyper potion is: Poke 800.00\n",
      "The price of one Revive is: poke 900.00\n"
     ]
    }
   ],
   "source": [
    "prices=  np.linalg.solve(items,cost)\n",
    "print('The price of one Ultraball is: poke {:.2f}'.format(float(prices[0])))\n",
    "print('The price of one Hyper potion is: Poke {:.2f}'.format(float(prices[1])))\n",
    "print('The price of one Revive is: poke {:.2f}'.format(float(prices[2])))"
   ]
  },
  {
   "cell_type": "markdown",
   "metadata": {},
   "source": [
    "## Problem 2\n",
    "The herds are split up as follows:<br>\n",
    "At Mamie’s pasture: 16 cows, 13 heifers, 7 calves<br>\n",
    "At McLoed’s pasture: 18 cows 11 calves 1 bull<br>\n",
    "At Mary Lou’s pasture: 16 cows, 5 calves, 1 bull <br>\n",
    "At Nadine’s pasture: 12 calves<br>\n",
    "<br>\n",
    "Cows make up what percentage of all the animals in the four pastures?<br>\n",
    "Heifers make up what percentage of all the animals in the four pastures?<br>\n",
    "Calves make up what percentage of all the animals in the four pastures?<br>\n",
    "Bulls make up what percentage of all the animals in the four pastures?<br>\n",
    "<br>\n",
    "$Let : \\\\ \n",
    "C = Cow,  H= Heifers, c = Calves, B= Bulls\\\\ \\\\\n",
    "Mamie: 16C + 13H + 7c + 0B = 36 \\\\\n",
    "McLoed: 18C + 0H + 11c + 1B = 30 \\\\\n",
    "Mary Lou: 16C + 0H + 5c+ 1B = 22 \\\\\n",
    "Nadine: 0C + 0H + 12c + 0B =12$\n"
   ]
  },
  {
   "cell_type": "code",
   "execution_count": 11,
   "metadata": {},
   "outputs": [],
   "source": [
    "pastures =np.array([\n",
    "    [16,13,7,0],\n",
    "    [18,0,11,1],\n",
    "    [16,0,5,1],\n",
    "    [0,0,12,0]\n",
    "])\n",
    "total_animals=np.array([\n",
    "    [36],\n",
    "    [30],\n",
    "    [22],\n",
    "    [12]\n",
    "    \n",
    "])\n"
   ]
  },
  {
   "cell_type": "code",
   "execution_count": 12,
   "metadata": {},
   "outputs": [
    {
     "name": "stdout",
     "output_type": "stream",
     "text": [
      "The percent of cows in a pasture is:50.00%\n",
      "The percent of heifers in a pasture is: 13.00%\n",
      "The percent of calves in a pasture is:35.00%\n",
      "The percent of bulls in a pasture is:2.00%\n"
     ]
    }
   ],
   "source": [
    "animals = np.linalg.inv(pastures) @ total_animals\n",
    "print('The percent of cows in a pasture is:{:.2f}%'.format(float(animals[0]*50))) # cow total= 50\n",
    "print('The percent of heifers in a pasture is: {:.2f}%'.format(float(animals[1]*13)))# heifers total = 13\n",
    "print('The percent of calves in a pasture is:{:.2f}%'.format(float(animals[2]*35)))# calves total= 35\n",
    "print('The percent of bulls in a pasture is:{:.2f}%'.format(float(animals[3]*2)))  # bulls total= 2 "
   ]
  },
  {
   "cell_type": "code",
   "execution_count": 13,
   "metadata": {},
   "outputs": [
    {
     "name": "stdout",
     "output_type": "stream",
     "text": [
      "The percent of cows in a pasture is:50.00%\n",
      "The percent of heifers in a pasture is: 13.00%\n",
      "The percent of calves in a pasture is:35.00%\n",
      "The percent of bulls in a pasture is:2.00%\n"
     ]
    }
   ],
   "source": [
    "animals = np.linalg.solve(pastures,total_animals)\n",
    "print('The percent of cows in a pasture is:{:.2f}%'.format(float(animals[0]*50)))\n",
    "print('The percent of heifers in a pasture is: {:.2f}%'.format(float(animals[1]*13)))\n",
    "print('The percent of calves in a pasture is:{:.2f}%'.format(float(animals[2]*35)))\n",
    "print('The percent of bulls in a pasture is:{:.2f}%'.format(float(animals[3]*2)))"
   ]
  }
 ],
 "metadata": {
  "kernelspec": {
   "display_name": "Python 3",
   "language": "python",
   "name": "python3"
  },
  "language_info": {
   "codemirror_mode": {
    "name": "ipython",
    "version": 3
   },
   "file_extension": ".py",
   "mimetype": "text/x-python",
   "name": "python",
   "nbconvert_exporter": "python",
   "pygments_lexer": "ipython3",
   "version": "3.8.3"
  }
 },
 "nbformat": 4,
 "nbformat_minor": 4
}
